{
 "cells": [
  {
   "cell_type": "markdown",
   "metadata": {},
   "source": [
    "Квадраты всех четных чисел (используя map и filter)"
   ]
  },
  {
   "cell_type": "code",
   "execution_count": 60,
   "metadata": {},
   "outputs": [
    {
     "name": "stdout",
     "output_type": "stream",
     "text": [
      "[4, 16, 36]\n"
     ]
    }
   ],
   "source": [
    "squares = [1, 2, 3, 4, 5, 6]\n",
    "sq_map = list(map(lambda x: x ** 2, filter(lambda x: x % 2 == 0, squares)))\n",
    "print(sq_map)"
   ]
  },
  {
   "cell_type": "markdown",
   "metadata": {},
   "source": [
    "Дана входная строка и массив чисел, необходимо вернуть строку с теми буквами, которые стоят на указанных местах (два варианта, используя и не используя list comprehensions)"
   ]
  },
  {
   "cell_type": "code",
   "execution_count": 61,
   "metadata": {},
   "outputs": [
    {
     "name": "stdout",
     "output_type": "stream",
     "text": [
      "смп\n",
      "смп\n"
     ]
    }
   ],
   "source": [
    "string = \"Всем привет\"\n",
    "array = [1, 3, 5]\n",
    "\n",
    "print(\"\".join([string[i] for i in array]))\n",
    "\n",
    "result = \"\"\n",
    "for i in array:\n",
    "    result += string[i]\n",
    "print(result)"
   ]
  },
  {
   "cell_type": "markdown",
   "metadata": {},
   "source": [
    "Дан текст (предложения разделены только точками), в котором буквы могут находиться в разных регистрах. Необходимо вернуть текст, в котором все буквы в нижнем регистре, а первые буквы каждого предложения – в верхнем. Пользоваться можно встроенными функциями строки (кроме capitalize ), всеми изученными в этой теме функциями и модулем itertools.\n"
   ]
  },
  {
   "cell_type": "code",
   "execution_count": 62,
   "metadata": {},
   "outputs": [
    {
     "data": {
      "text/plain": [
       "'Random sentence full of random text. Second random sentence full of random text'"
      ]
     },
     "execution_count": 62,
     "metadata": {},
     "output_type": "execute_result"
    }
   ],
   "source": [
    "def first_letter_index(string):\n",
    "    return len(string) - len(string.lstrip())\n",
    "\n",
    "def initcap(string):\n",
    "    sentences = string.split('.')\n",
    "    sentences = list(map(lambda x: x[:first_letter_index(x) + 1].upper() + x[first_letter_index(x) + 1:].lower() if len(x) > 0 else x, sentences))\n",
    "    return '.'.join(sentences)\n",
    "\n",
    "input = 'rAndOm seNTenCe fuLl oF rAnDom TexT. seCoNd RaNdOM seNTenCe full of rANdOm tEXt'\n",
    "initcap(input)"
   ]
  },
  {
   "cell_type": "markdown",
   "metadata": {},
   "source": [
    "functools.reduce"
   ]
  },
  {
   "cell_type": "code",
   "execution_count": 63,
   "metadata": {},
   "outputs": [
    {
     "data": {
      "text/plain": [
       "15"
      ]
     },
     "execution_count": 63,
     "metadata": {},
     "output_type": "execute_result"
    }
   ],
   "source": [
    "def reduce(function, iterable, initializer=None):\n",
    "    it = iter(iterable)\n",
    "    if initializer is None:\n",
    "        result = next(it)\n",
    "    else:\n",
    "        result = initializer\n",
    "    for element in it:\n",
    "        result = function(result, element)\n",
    "    return result\n",
    "\n",
    "reduce(lambda x, y: x+y, [1, 2, 3, 4, 5])"
   ]
  },
  {
   "cell_type": "markdown",
   "metadata": {},
   "source": [
    "Cоздайте функцию pipeline_each, в которую вы будете подавать итерируемый объект и список функций, которые последовательно надо к нему применить."
   ]
  },
  {
   "cell_type": "code",
   "execution_count": 64,
   "metadata": {},
   "outputs": [
    {
     "name": "stdout",
     "output_type": "stream",
     "text": [
      "0.0\n",
      "2.25\n",
      "9.0\n",
      "20.25\n",
      "36.0\n"
     ]
    }
   ],
   "source": [
    "def pipeline(func, value):\n",
    "    for f in func:\n",
    "        value = f(value)\n",
    "    return value\n",
    "\n",
    "def pipelines(func, obj):\n",
    "    for value in obj:\n",
    "        yield pipeline(func, value)\n",
    "        \n",
    "func = [ lambda x: x*3, lambda x: x * x, lambda x: x / 4]\n",
    "\n",
    "value = range(5)\n",
    "for result in pipelines(func, value):\n",
    "    print(result)"
   ]
  },
  {
   "cell_type": "markdown",
   "metadata": {},
   "source": [
    "Написать генератор, возвращающий по очереди все слова, входящие в предложение.\n"
   ]
  },
  {
   "cell_type": "code",
   "execution_count": 65,
   "metadata": {},
   "outputs": [
    {
     "name": "stdout",
     "output_type": "stream",
     "text": [
      "Random\n",
      "sentence\n",
      "full\n",
      "of\n",
      "random\n",
      "text\n"
     ]
    }
   ],
   "source": [
    "string = \"Random sentence full of random text\"\n",
    "res = ( s for s in string.split(' '))\n",
    "for i in res:\n",
    "    print(i)"
   ]
  },
  {
   "cell_type": "markdown",
   "metadata": {},
   "source": [
    "Написать генератор псевдо случайных чисел"
   ]
  },
  {
   "cell_type": "code",
   "execution_count": 66,
   "metadata": {},
   "outputs": [
    {
     "name": "stdout",
     "output_type": "stream",
     "text": [
      "35\n",
      "250\n",
      "1789\n",
      "12804\n",
      "91641\n"
     ]
    }
   ],
   "source": [
    "def random(seed):\n",
    "    f = lambda x: int(((x*4.167932458)/2.167234)+(x*5.234123))\n",
    "    next = seed\n",
    "    while True:\n",
    "        next = f(next)\n",
    "        yield next\n",
    "\n",
    "test= random(5)\n",
    "for i in range(5):\n",
    "    print(next(test))"
   ]
  },
  {
   "cell_type": "markdown",
   "metadata": {},
   "source": [
    "Написать корутину, которая реализует бесконечную арифметическую прогрессию с возможностью перезапуска с любого места (3, 4, 5, 6, send(30), 31, 32, 33, …)\n"
   ]
  },
  {
   "cell_type": "code",
   "execution_count": 67,
   "metadata": {},
   "outputs": [
    {
     "name": "stdout",
     "output_type": "stream",
     "text": [
      "0\n",
      "1\n",
      "2\n",
      "3\n",
      "4\n",
      "31\n",
      "32\n",
      "33\n",
      "34\n",
      "35\n"
     ]
    }
   ],
   "source": [
    "def coroutine():\n",
    "    num = 0\n",
    "    while True:\n",
    "        input_num = (yield num)\n",
    "        if input_num != None:\n",
    "            num = input_num\n",
    "        else:\n",
    "            num += 1\n",
    "    \n",
    "c = coroutine()\n",
    "\n",
    "for i in range(5):\n",
    "    print(str(next(c)))\n",
    "\n",
    "c.send(30)\n",
    "\n",
    "for i in range(5):\n",
    "    print(str(next(c)))"
   ]
  }
 ],
 "metadata": {
  "kernelspec": {
   "display_name": "Python 3",
   "language": "python",
   "name": "python3"
  },
  "language_info": {
   "codemirror_mode": {
    "name": "ipython",
    "version": 3
   },
   "file_extension": ".py",
   "mimetype": "text/x-python",
   "name": "python",
   "nbconvert_exporter": "python",
   "pygments_lexer": "ipython3",
   "version": "3.6.5"
  }
 },
 "nbformat": 4,
 "nbformat_minor": 2
}
