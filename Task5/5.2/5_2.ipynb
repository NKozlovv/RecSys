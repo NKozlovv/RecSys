{
 "cells": [
  {
   "cell_type": "code",
   "execution_count": 1,
   "metadata": {},
   "outputs": [],
   "source": [
    "from numpy import genfromtxt\n",
    "from random import uniform, randint\n",
    "import json\n",
    "\n",
    "\n",
    "def get_data():\n",
    "    with open('8.txt') as dataSource:\n",
    "        maxWeight, maxVolume = [float(i) for i in next(dataSource).split()]\n",
    "        data = genfromtxt('8.txt', delimiter=' ', dtype=(int, float, int), skip_header=1)\n",
    "    return {\n",
    "        'maxWeight': int(maxWeight),\n",
    "        'maxVolume': float(maxVolume),\n",
    "        'items': data.tolist()\n",
    "    }\n",
    "\n",
    "\n",
    "def fitness(individual, data):\n",
    "    weight, volume, price = 0, 0, 0\n",
    "    for (selected, item) in zip(individual, data):\n",
    "        if selected:\n",
    "            weight += item[0]\n",
    "            volume += item[1]\n",
    "            price += item[2]\n",
    "    if weight > genData['maxWeight'] or volume > genData['maxVolume']:\n",
    "        price = 0\n",
    "    return price\n",
    "\n"
   ]
  },
  {
   "cell_type": "code",
   "execution_count": 2,
   "metadata": {},
   "outputs": [],
   "source": [
    "\n",
    "# Начальная популяция\n",
    "# 1.2 жадный выбор, начиная со случайного груза\n",
    "def first_population():\n",
    "    first_set = []\n",
    "    for i in range(200):\n",
    "        item = randint(0, 59)\n",
    "        weight = 0\n",
    "        list = []\n",
    "        for j in range(60):\n",
    "            list.append(0)\n",
    "        while item < 30 and (weight + genData['items'][item][0]) < genData['maxWeight']:\n",
    "            list[item] = 1\n",
    "            weight += genData['items'][item][0]\n",
    "            if item < len(genData['items']) - 1:\n",
    "                item += 1\n",
    "            else:\n",
    "                item = 0\n",
    "        first_set.append(list)\n",
    "    return first_set\n",
    "\n"
   ]
  },
  {
   "cell_type": "code",
   "execution_count": 3,
   "metadata": {},
   "outputs": [],
   "source": [
    "# Отбор особей для скрещивания\n",
    "# 2.1 выбор каждой особи пропорционально приспособленности (рулетка)\n",
    "def sets_filter(sets):\n",
    "    final_sets = []\n",
    "    checking_percent = uniform(0, 1)\n",
    "    fitness_for_sets = []\n",
    "    for j in range(len(sets)):\n",
    "        fitness_for_sets.append(fitness(sets[j], genData['items']))\n",
    "    max_fitness = max(fitness_for_sets)\n",
    "    for i in range(len(fitness_for_sets)):\n",
    "        fitness_for_sets[i] = fitness_for_sets[i] / max_fitness\n",
    "        if checking_percent < fitness_for_sets[i]:\n",
    "            final_sets.append(sets[i])\n",
    "    return final_sets"
   ]
  },
  {
   "cell_type": "code",
   "execution_count": 4,
   "metadata": {},
   "outputs": [],
   "source": [
    "# Скрещивание\n",
    "# 3.1 многоточечный с 3мя точками\n",
    "def crossingover(first_parent, second_parent):\n",
    "    dots = []\n",
    "    for i in range(0, 3):\n",
    "        dots.append(randint(1, len(first_parent)))\n",
    "    dots.sort()\n",
    "    first_child = first_parent[:dots[0]] + second_parent[dots[0]:dots[1]] + first_parent[dots[1]:dots[2]] + second_parent[dots[2]:]\n",
    "    second_child = second_parent[:dots[0]] + first_parent[dots[0]:dots[1]] + first_parent[dots[1]:dots[2]] + second_parent[dots[2]:]\n",
    "\n",
    "    return [first_child, second_child]\n",
    "\n",
    "\n",
    "def sets_crossingover(sets):\n",
    "    child_sets = []\n",
    "    for i in range(0, len(sets) // 2):\n",
    "        child_sets += crossingover(sets[i], sets[len(sets) - 1 - i])\n",
    "    return child_sets"
   ]
  },
  {
   "cell_type": "code",
   "execution_count": 5,
   "metadata": {},
   "outputs": [],
   "source": [
    "# Мутация\n",
    "# 4.2 случайное изменение 3х битов у 5% особей\n",
    "def mutation(sets):\n",
    "    final_len = round(len(sets) * 0.05)\n",
    "    changing_sets = sets[:final_len]\n",
    "    static_sets = sets[final_len:]\n",
    "    for i in range(len(changing_sets)):\n",
    "        for j in range(0, 3):\n",
    "            item = randint(0, len(changing_sets[i]) - 1)\n",
    "            changing_sets[i][item] = 1 if changing_sets[i][item] == 0 else 0\n",
    "    return changing_sets + static_sets"
   ]
  },
  {
   "cell_type": "code",
   "execution_count": 6,
   "metadata": {},
   "outputs": [],
   "source": [
    "def get_max_fitness_for_sets(sets):\n",
    "    fitness_for_sets = []\n",
    "    for j in range(len(sets)):\n",
    "        fitness_for_sets.append(fitness(sets[j], genData['items']))\n",
    "    return max(fitness_for_sets)"
   ]
  },
  {
   "cell_type": "code",
   "execution_count": 7,
   "metadata": {},
   "outputs": [],
   "source": [
    "# Новая популяция\n",
    "# 5.2 «штраф» за «старость» -20% функции приспособленности, выбор лучших\n",
    "def get_new_population(children, sets):\n",
    "    fitness_for_sets = []\n",
    "    for j in range(len(sets)):\n",
    "        fitness_for_sets.append(fitness(sets[j], genData['items']))\n",
    "\n",
    "    fitnesses = {}\n",
    "\n",
    "    for i in range(len(fitness_for_sets)):\n",
    "        fitnesses[i] = fitness_for_sets[i]\n",
    "\n",
    "    fitnesses = sorted(fitnesses.items(), key=lambda item: item[1])\n",
    "\n",
    "    final_len = round(len(sets) * 0.3)\n",
    "\n",
    "    for i in range(len(children) if len(children) < final_len else final_len):\n",
    "        current_parent = fitnesses[i]\n",
    "        sets[current_parent[0]] = children[i]\n",
    "\n",
    "    return sets"
   ]
  },
  {
   "cell_type": "code",
   "execution_count": 8,
   "metadata": {},
   "outputs": [
    {
     "name": "stdout",
     "output_type": "stream",
     "text": [
      "{'weight': 12847, 'volume': 11.700000000000001, 'price': 4055, 'items': [0, 12, 13, 15, 16, 17, 18, 19, 20, 21, 24, 25, 26, 27, 28, 29]}\n"
     ]
    }
   ],
   "source": [
    "def init():\n",
    "    current_sets = first_population()\n",
    "    max_fitness = get_max_fitness_for_sets(current_sets)\n",
    "    current_count = 0\n",
    "    for i in range(500):\n",
    "        filters_sets = sets_filter(current_sets)\n",
    "        children = sets_crossingover(filters_sets)\n",
    "        final_children = mutation(children)\n",
    "        current_sets = get_new_population(final_children, current_sets)\n",
    "        prev_max_fitness = max_fitness\n",
    "        max_fitness = get_max_fitness_for_sets(current_sets)\n",
    "        current_percent = abs((max_fitness - prev_max_fitness) / ((max_fitness + prev_max_fitness) / 2)) * 100\n",
    "        if current_percent == 0:\n",
    "            current_count += 1\n",
    "        if current_count > 10:\n",
    "            break\n",
    "    result_weight = 0\n",
    "    result_volume = 0\n",
    "    result_price = 0\n",
    "    result_sum = []\n",
    "    result_set = []\n",
    "    for i in range(len(current_sets)):\n",
    "        fitness_for_set = fitness(current_sets[i], genData['items'])\n",
    "        if fitness_for_set == max_fitness:\n",
    "            result_set = current_sets[i]\n",
    "    for i in range(len(result_set)):\n",
    "        if result_set[i] > 0 and len(genData['items']) > i:\n",
    "            result_weight += genData['items'][i][0]\n",
    "            result_volume += genData['items'][i][1]\n",
    "            result_price += genData['items'][i][2]\n",
    "            result_sum.append(i)\n",
    "    res = {\n",
    "        'weight': result_weight,\n",
    "        'volume': result_volume,\n",
    "        'price': result_price,\n",
    "        'items': result_sum\n",
    "    }\n",
    "    with open('result_2.json', 'w') as file:\n",
    "        json.dump(res, file)\n",
    "\n",
    "    print(res)\n",
    "\n",
    "if __name__ == \"__main__\":\n",
    "    genData = get_data()\n",
    "    init()"
   ]
  },
  {
   "cell_type": "code",
   "execution_count": null,
   "metadata": {},
   "outputs": [],
   "source": []
  }
 ],
 "metadata": {
  "kernelspec": {
   "display_name": "Python 3",
   "language": "python",
   "name": "python3"
  },
  "language_info": {
   "codemirror_mode": {
    "name": "ipython",
    "version": 3
   },
   "file_extension": ".py",
   "mimetype": "text/x-python",
   "name": "python",
   "nbconvert_exporter": "python",
   "pygments_lexer": "ipython3",
   "version": "3.7.3"
  }
 },
 "nbformat": 4,
 "nbformat_minor": 2
}
