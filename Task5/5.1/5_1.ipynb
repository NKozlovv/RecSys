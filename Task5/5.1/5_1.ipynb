{
 "cells": [
  {
   "cell_type": "code",
   "execution_count": 20,
   "metadata": {},
   "outputs": [],
   "source": [
    "from ortools.algorithms import pywrapknapsack_solver"
   ]
  },
  {
   "cell_type": "code",
   "execution_count": 21,
   "metadata": {},
   "outputs": [],
   "source": [
    "data = []\n",
    "weights=[]\n",
    "values=[]\n",
    "volumes=[]\n",
    "\n",
    "file = '8.txt'\n",
    "f = open(file, 'r')\n",
    "for line in f:\n",
    "    data.append(line.strip().split())\n",
    "    \n",
    "data = [[int(float(j)) for j in i] for i in data]\n",
    "\n",
    "capacity_weight = data[0][0]\n",
    "capacity_volume = data[0][1]\n",
    "\n",
    "data.pop(0)\n",
    "\n",
    "capacities = [capacity_weight, capacity_volume * 10]"
   ]
  },
  {
   "cell_type": "code",
   "execution_count": 22,
   "metadata": {},
   "outputs": [],
   "source": [
    "for d in data:\n",
    "    volumes.append(d[1]*10)\n",
    "    weights.append(d[0])\n",
    "    values.append(d[2])"
   ]
  },
  {
   "cell_type": "code",
   "execution_count": 23,
   "metadata": {},
   "outputs": [],
   "source": [
    "solver = pywrapknapsack_solver.KnapsackSolver(\n",
    "    pywrapknapsack_solver.KnapsackSolver\n",
    "        .KNAPSACK_MULTIDIMENSION_BRANCH_AND_BOUND_SOLVER,\n",
    "        '')\n",
    "\n",
    "solver.Init(values, [weights, volumes], capacities)\n",
    "computed_value = solver.Solve()"
   ]
  },
  {
   "cell_type": "code",
   "execution_count": 24,
   "metadata": {},
   "outputs": [
    {
     "name": "stdout",
     "output_type": "stream",
     "text": [
      "Total value: 5550\n",
      "Total weight: 12901\n",
      "Total volume: 6.0\n",
      "Packed items: [0, 1, 4, 9, 10, 11, 12, 13, 14, 15, 16, 18, 19, 21, 22, 23, 24, 27, 28]\n",
      "Packed weights: [1094.0, 810.0, 924.0, 674.0, 543.0, 120.0, 1279.0, 1083.0, 572.0, 209.0, 471.0, 1286.0, 366.0, 168.0, 1114.0, 852.0, 267.0, 468.0, 601.0]\n",
      "\n"
     ]
    }
   ],
   "source": [
    "packed_items = []\n",
    "packed_weights = []\n",
    "res_weight = 0\n",
    "res_volume = 0\n",
    "\n",
    "for i in range(len(values)):\n",
    "    if solver.BestSolutionContains(i):\n",
    "        res_weight += [weights, volumes][0][i]\n",
    "        res_volume += [weights, volumes][1][i]\n",
    "        packed_items.append(i)\n",
    "        packed_weights.append(float([weights, volumes][0][i]))\n",
    "\n",
    "res = 'Total value: ' + str(computed_value) + '\\n'  \n",
    "res += 'Total weight: ' + str(res_weight) + '\\n'\n",
    "res += 'Total volume: ' + str(res_volume/10) + '\\n'\n",
    "res += 'Packed items: ' + str(packed_items) + '\\n'\n",
    "res += 'Packed weights: ' + str(packed_weights) + '\\n'\n",
    "\n",
    "\n",
    "print(res)\n",
    "f=open('5_1.txt', 'w')\n",
    "f.write(res)\n",
    "f.close()"
   ]
  }
 ],
 "metadata": {
  "kernelspec": {
   "display_name": "Python 3",
   "language": "python",
   "name": "python3"
  },
  "language_info": {
   "codemirror_mode": {
    "name": "ipython",
    "version": 3
   },
   "file_extension": ".py",
   "mimetype": "text/x-python",
   "name": "python",
   "nbconvert_exporter": "python",
   "pygments_lexer": "ipython3",
   "version": "3.7.3"
  }
 },
 "nbformat": 4,
 "nbformat_minor": 2
}
