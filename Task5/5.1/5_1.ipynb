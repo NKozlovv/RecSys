{
 "cells": [
  {
   "cell_type": "code",
   "execution_count": 1,
   "metadata": {},
   "outputs": [],
   "source": [
    "from pyeasyga import pyeasyga"
   ]
  },
  {
   "cell_type": "code",
   "execution_count": 2,
   "metadata": {},
   "outputs": [],
   "source": [
    "total_volume = 0\n",
    "total_weight = 0\n",
    "total_price = 0\n",
    "total_items = []\n",
    "data = []"
   ]
  },
  {
   "cell_type": "code",
   "execution_count": 3,
   "metadata": {},
   "outputs": [
    {
     "data": {
      "text/plain": [
       "[13000, 12]"
      ]
     },
     "execution_count": 3,
     "metadata": {},
     "output_type": "execute_result"
    }
   ],
   "source": [
    "file = '8.txt'\n",
    "f = open(file, 'r')\n",
    "for line in f:\n",
    "    data.append(line.strip().split())\n",
    "    \n",
    "data = [[int(float(j)) for j in i] for i in data]\n",
    "\n",
    "max_weight = data[0][0]\n",
    "max_volume = data[0][1]\n",
    "\n",
    "data.pop(0)"
   ]
  },
  {
   "cell_type": "code",
   "execution_count": 4,
   "metadata": {},
   "outputs": [],
   "source": [
    "ga = pyeasyga.GeneticAlgorithm(data)\n",
    "ga.population_size = 200"
   ]
  },
  {
   "cell_type": "code",
   "execution_count": 5,
   "metadata": {},
   "outputs": [],
   "source": [
    "def fitness(individual, data):\n",
    "    weight, volume, price = 0, 0, 0\n",
    "    for (selected, item) in zip(individual, data):\n",
    "        if selected:\n",
    "            weight += item[0]\n",
    "            volume += item[1]\n",
    "            price += item[2]\n",
    "    if weight > max_weight or volume > max_volume:\n",
    "        price = 0\n",
    "    return price"
   ]
  },
  {
   "cell_type": "code",
   "execution_count": 6,
   "metadata": {},
   "outputs": [],
   "source": [
    "ga.fitness_function = fitness\n",
    "ga.run()\n",
    "\n",
    "result = ga.best_individual()"
   ]
  },
  {
   "cell_type": "code",
   "execution_count": 7,
   "metadata": {},
   "outputs": [
    {
     "name": "stdout",
     "output_type": "stream",
     "text": [
      "Total price: 5401\n",
      "Total volume: 5\n",
      "Total weight: 12844\n",
      "Items: [0, 1, 4, 9, 10, 11, 12, 13, 14, 15, 16, 20, 21, 22, 24, 26, 27, 28]\n"
     ]
    }
   ],
   "source": [
    "for i, selected in enumerate(result[1]):\n",
    "    if selected:\n",
    "        total_weight += data[i][0]\n",
    "        total_volume += data[i][1]\n",
    "        total_price += data[i][2]\n",
    "        total_items.append(i)\n",
    "\n",
    "print(\"Total price: \" + str(total_price))\n",
    "print(\"Total volume: \" + str(total_volume))\n",
    "print(\"Total weight: \" + str(total_weight))\n",
    "print(\"Items: \" + str(total_items))\n"
   ]
  }
 ],
 "metadata": {
  "kernelspec": {
   "display_name": "Python 2",
   "language": "python",
   "name": "python2"
  },
  "language_info": {
   "codemirror_mode": {
    "name": "ipython",
    "version": 2
   },
   "file_extension": ".py",
   "mimetype": "text/x-python",
   "name": "python",
   "nbconvert_exporter": "python",
   "pygments_lexer": "ipython2",
   "version": "2.7.16"
  }
 },
 "nbformat": 4,
 "nbformat_minor": 2
}
