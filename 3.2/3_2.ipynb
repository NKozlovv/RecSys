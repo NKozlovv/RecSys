{
 "cells": [
  {
   "cell_type": "code",
   "execution_count": 1,
   "metadata": {},
   "outputs": [
    {
     "name": "stdout",
     "output_type": "stream",
     "text": [
      "Enter user ID: 1\n",
      "Computing the cosine similarity matrix...\n",
      "Done computing similarity matrix.\n",
      "User 1:\n",
      "302  ('L.A. Confidential (1997)', '01-Jan-1997')                                                     4.953\n",
      "902  ('Big Lebowski, The (1998)', '26-Dec-1997')                                                     4.87\n",
      "1367 ('Faust (1994)', '01-Jan-1994')                                                                 4.761\n",
      "516  ('Local Hero (1983)', '01-Jan-1983')                                                            4.76\n",
      "1449 ('Pather Panchali (1955)', '22-Mar-1996')                                                       4.736\n"
     ]
    }
   ],
   "source": [
    "import io\n",
    "from surprise import Dataset\n",
    "from surprise import KNNWithMeans\n",
    "from surprise import get_dataset_dir\n",
    "from collections import defaultdict\n",
    "from SPARQLWrapper import SPARQLWrapper, JSON\n",
    "import pandas as pd\n",
    "import requests\n",
    "import re\n",
    "from IPython.display import display, HTML\n",
    "\n",
    "k=4\n",
    "similarFilms = 5\n",
    "userID = input(\"Enter user ID: \")\n",
    "\n",
    "data = Dataset.load_builtin('ml-100k')\n",
    "trainset = data.build_full_trainset()\n",
    "simOptions = {'name':'cosine','min_support':similarFilms}\n",
    "\n",
    "alg=KNNWithMeans(k=k, min_k=k, sim_options = simOptions)\n",
    "alg.fit(trainset)\n",
    "\n",
    "testSet = trainset.build_anti_testset()\n",
    "testSet = filter(lambda x: x[0] == userID, testSet)\n",
    "predictions = alg.test(testSet)\n",
    "topN = defaultdict(list)\n",
    "\n",
    "for uid, iid, _, est, _ in predictions:\n",
    "    topN[uid].append((iid, round(est, 3)))\n",
    "\n",
    "for uid, userRnk in topN.items():\n",
    "    userRnk.sort(key=lambda x: x[1], reverse=True)\n",
    "    topN[uid] = userRnk[:similarFilms]\n",
    "\n",
    "file = get_dataset_dir() + '/ml-100k/ml-100k/u.item'\n",
    "data = {}\n",
    "rowFormat = \"{:^4} {:<95} {:^1}\"\n",
    "movies = []\n",
    "\n",
    "with open(file, 'r') as f:\n",
    "    for line in f:\n",
    "        line = line.split('|')\n",
    "        data[line[0]] = (line[1], line[2])\n",
    "\n",
    "print(f'User {userID}:')\n",
    "for movieID, rating in topN[userID]:\n",
    "    print(rowFormat.format(movieID,str(data[movieID]),rating))\n",
    "    movie_title = data[movieID][0]\n",
    "    year = re.findall('[0-9]{4}', movie_title)\n",
    "    \n",
    "    if movie_title.find(\", The\") != -1:\n",
    "        last = movie_title.find(\", The\")\n",
    "        movie = movie_title[:last]\n",
    "    else:\n",
    "        last = movie_title.find(\" (\")\n",
    "        movie = movie_title[:last]\n",
    "    \n",
    "    movies.append([movie, year[0]])"
   ]
  },
  {
   "cell_type": "code",
   "execution_count": 2,
   "metadata": {},
   "outputs": [],
   "source": [
    "def querySPARQL(sparql, wiki_id, title):\n",
    "    spaqrql_query = \"\"\"\n",
    "        SELECT ?movieLabel\n",
    "        WHERE \n",
    "        {\n",
    "            {SELECT ?release_year #Finding release year of the recommended film\n",
    "                WHERE\n",
    "                {\n",
    "                  wd:\"\"\" + wiki_id + \"\"\" wdt:P577 ?release_date.\n",
    "                  BIND(str(YEAR(?release_date)) AS ?release_year).\n",
    "                }\n",
    "            ORDER BY ASC(?release_year) LIMIT 1}\n",
    "          ?movie wdt:P31 wd:Q11424. #object is a film\n",
    "          ?movie p:P166 ?awardstatement. #with list of awards\n",
    "          ?awardstatement ps:P166 ?award. #takes each award to check if it`s Palme D`Or\n",
    "          ?awardstatement pq:P585 ?date. #takes date of each award to check if it`s receiver in the year of the recommended film`s release\n",
    "          FILTER(str(YEAR(?date)) = ?release_year && ?award = wd:Q179808) #checks if year is the same and award if Palme D`or\n",
    "          SERVICE wikibase:label { bd:serviceParam wikibase:language \"en\" }\n",
    "        }\n",
    "        \"\"\"\n",
    "    sparql.setQuery(spaqrql_query)\n",
    "    sparql.setReturnFormat(JSON)\n",
    "    results = sparql.query().convert()\n",
    "    \n",
    "    if results['results']['bindings']:\n",
    "        results_df = pd.io.json.json_normalize(results['results']['bindings'])\n",
    "        print( \"Movies that were given Palme d'Or in \" + title[1] + \" ('\" + title[0] + \"'):\")\n",
    "        display(HTML(results_df[['movieLabel.value']].to_html()))\n",
    "        print(\"\\n\")\n",
    "    else:\n",
    "        print(title[0] + \", \" + title[1] + \" do not able to find movies with Palme d'Or given in\" + title[1])"
   ]
  },
  {
   "cell_type": "code",
   "execution_count": 3,
   "metadata": {},
   "outputs": [
    {
     "name": "stdout",
     "output_type": "stream",
     "text": [
      "Movies that were given Palme d'Or in 1997 ('L.A. Confidential'):\n"
     ]
    },
    {
     "data": {
      "text/html": [
       "<table border=\"1\" class=\"dataframe\">\n",
       "  <thead>\n",
       "    <tr style=\"text-align: right;\">\n",
       "      <th></th>\n",
       "      <th>movieLabel.value</th>\n",
       "    </tr>\n",
       "  </thead>\n",
       "  <tbody>\n",
       "    <tr>\n",
       "      <th>0</th>\n",
       "      <td>Taste of Cherry</td>\n",
       "    </tr>\n",
       "    <tr>\n",
       "      <th>1</th>\n",
       "      <td>The Eel</td>\n",
       "    </tr>\n",
       "  </tbody>\n",
       "</table>"
      ],
      "text/plain": [
       "<IPython.core.display.HTML object>"
      ]
     },
     "metadata": {},
     "output_type": "display_data"
    },
    {
     "name": "stdout",
     "output_type": "stream",
     "text": [
      "\n",
      "\n",
      "Movies that were given Palme d'Or in 1998 ('Big Lebowski'):\n"
     ]
    },
    {
     "data": {
      "text/html": [
       "<table border=\"1\" class=\"dataframe\">\n",
       "  <thead>\n",
       "    <tr style=\"text-align: right;\">\n",
       "      <th></th>\n",
       "      <th>movieLabel.value</th>\n",
       "    </tr>\n",
       "  </thead>\n",
       "  <tbody>\n",
       "    <tr>\n",
       "      <th>0</th>\n",
       "      <td>Eternity and a Day</td>\n",
       "    </tr>\n",
       "  </tbody>\n",
       "</table>"
      ],
      "text/plain": [
       "<IPython.core.display.HTML object>"
      ]
     },
     "metadata": {},
     "output_type": "display_data"
    },
    {
     "name": "stdout",
     "output_type": "stream",
     "text": [
      "\n",
      "\n",
      "Movies that were given Palme d'Or in 1994 ('Faust'):\n"
     ]
    },
    {
     "data": {
      "text/html": [
       "<table border=\"1\" class=\"dataframe\">\n",
       "  <thead>\n",
       "    <tr style=\"text-align: right;\">\n",
       "      <th></th>\n",
       "      <th>movieLabel.value</th>\n",
       "    </tr>\n",
       "  </thead>\n",
       "  <tbody>\n",
       "    <tr>\n",
       "      <th>0</th>\n",
       "      <td>Pulp Fiction</td>\n",
       "    </tr>\n",
       "  </tbody>\n",
       "</table>"
      ],
      "text/plain": [
       "<IPython.core.display.HTML object>"
      ]
     },
     "metadata": {},
     "output_type": "display_data"
    },
    {
     "name": "stdout",
     "output_type": "stream",
     "text": [
      "\n",
      "\n",
      "Movies that were given Palme d'Or in 1983 ('Local Hero'):\n"
     ]
    },
    {
     "data": {
      "text/html": [
       "<table border=\"1\" class=\"dataframe\">\n",
       "  <thead>\n",
       "    <tr style=\"text-align: right;\">\n",
       "      <th></th>\n",
       "      <th>movieLabel.value</th>\n",
       "    </tr>\n",
       "  </thead>\n",
       "  <tbody>\n",
       "    <tr>\n",
       "      <th>0</th>\n",
       "      <td>The Ballad of Narayama</td>\n",
       "    </tr>\n",
       "  </tbody>\n",
       "</table>"
      ],
      "text/plain": [
       "<IPython.core.display.HTML object>"
      ]
     },
     "metadata": {},
     "output_type": "display_data"
    },
    {
     "name": "stdout",
     "output_type": "stream",
     "text": [
      "\n",
      "\n",
      "Movies that were given Palme d'Or in 1955 ('Pather Panchali'):\n"
     ]
    },
    {
     "data": {
      "text/html": [
       "<table border=\"1\" class=\"dataframe\">\n",
       "  <thead>\n",
       "    <tr style=\"text-align: right;\">\n",
       "      <th></th>\n",
       "      <th>movieLabel.value</th>\n",
       "    </tr>\n",
       "  </thead>\n",
       "  <tbody>\n",
       "    <tr>\n",
       "      <th>0</th>\n",
       "      <td>Marty</td>\n",
       "    </tr>\n",
       "  </tbody>\n",
       "</table>"
      ],
      "text/plain": [
       "<IPython.core.display.HTML object>"
      ]
     },
     "metadata": {},
     "output_type": "display_data"
    },
    {
     "name": "stdout",
     "output_type": "stream",
     "text": [
      "\n",
      "\n"
     ]
    }
   ],
   "source": [
    "API_ENDPOINT = \"https://www.wikidata.org/w/api.php\"\n",
    "sparql = SPARQLWrapper(\"https://query.wikidata.org/sparql\")\n",
    "\n",
    "for i in range(len(movies)):\n",
    "    search = 0\n",
    "    run = True\n",
    "    while run: \n",
    "        params = { 'action' : 'wbsearchentities','format' : 'json','language' : 'en','continue' : search,'search': movies[i][0] }    \n",
    "        res = requests.get(API_ENDPOINT, params = params)\n",
    "        res_json = res.json()['search']\n",
    "        \n",
    "        if len(res_json):\n",
    "            for j in range(len(res_json)):            \n",
    "                if res_json[j]['description'].find(movies[i][1]) != -1:\n",
    "                    wiki_id = res_json[j]['id']\n",
    "                    run = False\n",
    "                    querySPARQL(sparql, wiki_id, movies[i])\n",
    "                    break\n",
    "            search +=7\n",
    "        else:\n",
    "            print(\"Could not find movie with Palme d'Or in the same year \" + movies[i][0] + \", \" + movies[i][1] + \" was published.\\n\")\n",
    "            run = False"
   ]
  },
  {
   "cell_type": "code",
   "execution_count": null,
   "metadata": {},
   "outputs": [],
   "source": []
  },
  {
   "cell_type": "code",
   "execution_count": null,
   "metadata": {},
   "outputs": [],
   "source": []
  },
  {
   "cell_type": "code",
   "execution_count": null,
   "metadata": {},
   "outputs": [],
   "source": []
  }
 ],
 "metadata": {
  "kernelspec": {
   "display_name": "Python 3",
   "language": "python",
   "name": "python3"
  },
  "language_info": {
   "codemirror_mode": {
    "name": "ipython",
    "version": 3
   },
   "file_extension": ".py",
   "mimetype": "text/x-python",
   "name": "python",
   "nbconvert_exporter": "python",
   "pygments_lexer": "ipython3",
   "version": "3.7.3"
  }
 },
 "nbformat": 4,
 "nbformat_minor": 2
}
