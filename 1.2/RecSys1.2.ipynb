{
 "cells": [
  {
   "cell_type": "code",
   "execution_count": 5,
   "metadata": {},
   "outputs": [
    {
     "name": "stdout",
     "output_type": "stream",
     "text": [
      "Enter user ID: 88\n",
      "Computing the cosine similarity matrix...\n",
      "Done computing similarity matrix.\n",
      "User 88:\n",
      "474  ('Dr. Strangelove or: How I Learned to Stop Worrying and Love the Bomb (1963)', '01-Jan-1963')  5\n",
      " 10  ('Richard III (1995)', '22-Jan-1996')                                                           5\n",
      "127  ('Godfather, The (1972)', '01-Jan-1972')                                                        5\n",
      "187  ('Godfather: Part II, The (1974)', '01-Jan-1974')                                               5\n",
      "269  ('Full Monty, The (1997)', '01-Jan-1997')                                                       5\n"
     ]
    }
   ],
   "source": [
    "import io\n",
    "from surprise import Dataset\n",
    "from surprise import KNNWithMeans\n",
    "from surprise import get_dataset_dir\n",
    "from collections import defaultdict\n",
    "\n",
    "k=4\n",
    "similarFilms = 5\n",
    "userID = input(\"Enter user ID: \")\n",
    "\n",
    "data = Dataset.load_builtin('ml-100k')\n",
    "trainset = data.build_full_trainset()\n",
    "simOptions = {'name':'cosine','min_support':similarFilms}\n",
    "\n",
    "alg=KNNWithMeans(k=k, min_k=k, sim_options = simOptions)\n",
    "alg.fit(trainset)\n",
    "\n",
    "testSet = trainset.build_anti_testset()\n",
    "testSet = filter(lambda x: x[0] == userID, testSet)\n",
    "predictions = alg.test(testSet)\n",
    "topN = defaultdict(list)\n",
    "\n",
    "for uid, iid, _, est, _ in predictions:\n",
    "    topN[uid].append((iid, round(est, 3)))\n",
    "\n",
    "for uid, userRnk in topN.items():\n",
    "    userRnk.sort(key=lambda x: x[1], reverse=True)\n",
    "    topN[uid] = userRnk[:similarFilms]\n",
    "\n",
    "file = get_dataset_dir() + '/ml-100k/ml-100k/u.item'\n",
    "data = {}\n",
    "rowFormat = \"{:^4} {:<95} {:^1}\"\n",
    "\n",
    "with open(file, 'r') as f:\n",
    "    for line in f:\n",
    "        line = line.split('|')\n",
    "        data[line[0]] = (line[1], line[2])\n",
    "\n",
    "print(f'User {userID}:')\n",
    "for movieID, rating in topN[userID]:\n",
    "    print(rowFormat.format(movieID,str(data[movieID]),rating))"
   ]
  },
  {
   "cell_type": "code",
   "execution_count": null,
   "metadata": {},
   "outputs": [],
   "source": []
  },
  {
   "cell_type": "code",
   "execution_count": null,
   "metadata": {},
   "outputs": [],
   "source": []
  }
 ],
 "metadata": {
  "kernelspec": {
   "display_name": "Python 3",
   "language": "python",
   "name": "python3"
  },
  "language_info": {
   "codemirror_mode": {
    "name": "ipython",
    "version": 3
   },
   "file_extension": ".py",
   "mimetype": "text/x-python",
   "name": "python",
   "nbconvert_exporter": "python",
   "pygments_lexer": "ipython3",
   "version": "3.7.4"
  }
 },
 "nbformat": 4,
 "nbformat_minor": 2
}
